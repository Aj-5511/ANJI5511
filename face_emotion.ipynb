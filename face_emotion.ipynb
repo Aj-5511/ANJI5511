{
  "cells": [
    {
      "cell_type": "markdown",
      "metadata": {
        "id": "view-in-github",
        "colab_type": "text"
      },
      "source": [
        "<a href=\"https://colab.research.google.com/github/Aj-5511/ANJI5511/blob/main/face_emotion.ipynb\" target=\"_parent\"><img src=\"https://colab.research.google.com/assets/colab-badge.svg\" alt=\"Open In Colab\"/></a>"
      ]
    },
    {
      "cell_type": "code",
      "execution_count": null,
      "metadata": {
        "id": "zQ6KUnJyiW3n"
      },
      "outputs": [],
      "source": [
        "!pip install keras\n",
        "!pip install tensorflow\n",
        "!pip install opencv-python\n",
        "!pip install --upgrade keras tensorflow\n",
        "!pip install --upgrade opencv-python"
      ]
    },
    {
      "cell_type": "code",
      "execution_count": 6,
      "metadata": {
        "id": "swmtKiO-rEaW",
        "colab": {
          "base_uri": "https://localhost:8080/"
        },
        "outputId": "810ad255-bbbd-4f11-a0ce-4a1d30e6a948"
      },
      "outputs": [
        {
          "output_type": "stream",
          "name": "stdout",
          "text": [
            "4.9.0\n"
          ]
        }
      ],
      "source": [
        "from keras.models import Sequential\n",
        "from keras.layers import Conv2D, MaxPooling2D, Dense, Dropout, Flatten\n",
        "from keras.optimizers import Adam\n",
        "from keras.preprocessing.image import ImageDataGenerator\n",
        "from tensorflow.keras.optimizers import Adam\n",
        "from tensorflow.keras.preprocessing.image import ImageDataGenerator\n",
        "from tensorflow.keras.optimizers.schedules import ExponentialDecay\n",
        "import cv2\n",
        "from keras.models import model_from_json\n",
        "import numpy as np\n",
        "print(cv2.__version__)"
      ]
    },
    {
      "cell_type": "code",
      "execution_count": 7,
      "metadata": {
        "colab": {
          "base_uri": "https://localhost:8080/"
        },
        "id": "EsqFTQ8irIev",
        "outputId": "4a482ab1-c5f6-4c46-a46d-60f2b9e16cf9"
      },
      "outputs": [
        {
          "output_type": "stream",
          "name": "stdout",
          "text": [
            "Found 21360 images belonging to 5 classes.\n"
          ]
        }
      ],
      "source": [
        "train_data_gen = ImageDataGenerator()\n",
        "train_generator = train_data_gen.flow_from_directory('/content/drive/MyDrive/FER2013/TRAIN',\n",
        "    target_size=(48, 48),\n",
        "    batch_size=64,\n",
        "    color_mode=\"grayscale\",\n",
        "    class_mode='categorical')"
      ]
    },
    {
      "cell_type": "code",
      "execution_count": 8,
      "metadata": {
        "colab": {
          "base_uri": "https://localhost:8080/"
        },
        "id": "6kqaXSwpWDuM",
        "outputId": "7e44628c-06e3-4f21-ce90-9f6c4abccc2a"
      },
      "outputs": [
        {
          "output_type": "stream",
          "name": "stdout",
          "text": [
            "Found 6200 images belonging to 5 classes.\n"
          ]
        }
      ],
      "source": [
        "validation_data_gen = ImageDataGenerator(rescale=1./255)\n",
        "validation_generator = validation_data_gen.flow_from_directory(\n",
        "        '/content/drive/MyDrive/FER2013/TEST',\n",
        "        target_size=(48, 48),\n",
        "        batch_size=64,\n",
        "        color_mode=\"grayscale\",\n",
        "        class_mode='categorical')"
      ]
    },
    {
      "cell_type": "code",
      "execution_count": 9,
      "metadata": {
        "colab": {
          "base_uri": "https://localhost:8080/"
        },
        "id": "y6xg0iDwX7n3",
        "outputId": "5b3f15b1-f020-49db-e575-c10e796967b6"
      },
      "outputs": [
        {
          "output_type": "stream",
          "name": "stdout",
          "text": [
            "Model: \"sequential\"\n",
            "_________________________________________________________________\n",
            " Layer (type)                Output Shape              Param #   \n",
            "=================================================================\n",
            " conv2d (Conv2D)             (None, 46, 46, 64)        640       \n",
            "                                                                 \n",
            " conv2d_1 (Conv2D)           (None, 44, 44, 128)       73856     \n",
            "                                                                 \n",
            " max_pooling2d (MaxPooling2  (None, 22, 22, 128)       0         \n",
            " D)                                                              \n",
            "                                                                 \n",
            " dropout (Dropout)           (None, 22, 22, 128)       0         \n",
            "                                                                 \n",
            " conv2d_2 (Conv2D)           (None, 20, 20, 128)       147584    \n",
            "                                                                 \n",
            " max_pooling2d_1 (MaxPoolin  (None, 10, 10, 128)       0         \n",
            " g2D)                                                            \n",
            "                                                                 \n",
            " conv2d_3 (Conv2D)           (None, 8, 8, 128)         147584    \n",
            "                                                                 \n",
            " max_pooling2d_2 (MaxPoolin  (None, 4, 4, 128)         0         \n",
            " g2D)                                                            \n",
            "                                                                 \n",
            " dropout_1 (Dropout)         (None, 4, 4, 128)         0         \n",
            "                                                                 \n",
            " flatten (Flatten)           (None, 2048)              0         \n",
            "                                                                 \n",
            " dense (Dense)               (None, 1024)              2098176   \n",
            "                                                                 \n",
            " dropout_2 (Dropout)         (None, 1024)              0         \n",
            "                                                                 \n",
            " dense_1 (Dense)             (None, 5)                 5125      \n",
            "                                                                 \n",
            "=================================================================\n",
            "Total params: 2472965 (9.43 MB)\n",
            "Trainable params: 2472965 (9.43 MB)\n",
            "Non-trainable params: 0 (0.00 Byte)\n",
            "_________________________________________________________________\n"
          ]
        }
      ],
      "source": [
        "emotion_model = Sequential()\n",
        "\n",
        "emotion_model.add(Conv2D(64, kernel_size=(3, 3), activation='relu',\n",
        "                         input_shape=(48, 48, 1)))\n",
        "emotion_model.add(Conv2D(128, kernel_size=(3, 3), activation='relu'))\n",
        "emotion_model.add(MaxPooling2D(pool_size=(2, 2)))\n",
        "emotion_model.add(Dropout(0.20))\n",
        "\n",
        "emotion_model.add(Conv2D(128, kernel_size=(3, 3), activation='relu'))\n",
        "emotion_model.add(MaxPooling2D(pool_size=(2, 2)))\n",
        "emotion_model.add(Conv2D(128, kernel_size=(3, 3), activation='relu'))\n",
        "emotion_model.add(MaxPooling2D(pool_size=(2, 2)))\n",
        "emotion_model.add(Dropout(0.20))\n",
        "\n",
        "emotion_model.add(Flatten())\n",
        "emotion_model.add(Dense(1024, activation='relu'))\n",
        "emotion_model.add(Dropout(0.5))\n",
        "emotion_model.add(Dense(5, activation='softmax'))\n",
        "\n",
        "emotion_model.summary()\n",
        "\n",
        "cv2.ocl.setUseOpenCL(False)\n",
        "\n",
        "initial_learning_rate = 0.0001\n",
        "lr_schedule = ExponentialDecay(initial_learning_rate, decay_steps=100000,\n",
        "                               decay_rate=0.96)\n",
        "\n",
        "optimizer = Adam(learning_rate=lr_schedule)\n",
        "\n",
        "emotion_model.compile(loss='categorical_crossentropy', optimizer=optimizer,\n",
        "                      metrics=['accuracy'])\n",
        "#print(emotion_model.output_shape)\n",
        "#print(validation_generator.labels.shape)"
      ]
    },
    {
      "cell_type": "code",
      "execution_count": 10,
      "metadata": {
        "colab": {
          "base_uri": "https://localhost:8080/"
        },
        "id": "gyTd07QKYAYy",
        "outputId": "90e5d659-253e-4125-bc96-ebce57ac7957"
      },
      "outputs": [
        {
          "output_type": "stream",
          "name": "stdout",
          "text": [
            "16/16 [==============================] - 502s 32s/step - loss: 8.3017 - accuracy: 0.2578 - val_loss: 1.6089 - val_accuracy: 0.2969\n"
          ]
        }
      ],
      "source": [
        "emotion_model_info = emotion_model.fit(\n",
        "        train_generator,\n",
        "        steps_per_epoch=21360 // 1280,\n",
        "        epochs=1,\n",
        "        validation_data=validation_generator,\n",
        "        validation_steps=6200 // 1280)"
      ]
    },
    {
      "cell_type": "code",
      "execution_count": 11,
      "metadata": {
        "id": "y29VPRchYFRG",
        "colab": {
          "base_uri": "https://localhost:8080/"
        },
        "outputId": "66e19977-b750-4df1-9c48-160cff87c280"
      },
      "outputs": [
        {
          "output_type": "stream",
          "name": "stdout",
          "text": [
            "97/97 [==============================] - 1699s 18s/step - loss: 1.6085 - accuracy: 0.2915\n"
          ]
        },
        {
          "output_type": "execute_result",
          "data": {
            "text/plain": [
              "[1.6085058450698853, 0.2914516031742096]"
            ]
          },
          "metadata": {},
          "execution_count": 11
        }
      ],
      "source": [
        "emotion_model.evaluate(validation_generator)"
      ]
    },
    {
      "cell_type": "code",
      "execution_count": 12,
      "metadata": {
        "id": "kdumpaasYIlc"
      },
      "outputs": [],
      "source": [
        "accuracy = emotion_model_info.history['accuracy']\n",
        "val_accuracy = emotion_model_info.history['val_accuracy']\n",
        "loss = emotion_model_info.history['loss']\n",
        "val_loss = emotion_model_info.history['val_loss']\n"
      ]
    },
    {
      "cell_type": "code",
      "execution_count": 13,
      "metadata": {
        "id": "6LJ6ShQaYNcb",
        "colab": {
          "base_uri": "https://localhost:8080/",
          "height": 472
        },
        "outputId": "5ffd81dc-0ef6-4a97-da19-991918d4ba43"
      },
      "outputs": [
        {
          "output_type": "display_data",
          "data": {
            "text/plain": [
              "<Figure size 640x480 with 2 Axes>"
            ],
            "image/png": "[encoded data removed]"
          },
          "metadata": {}
        }
      ],
      "source": [
        "import matplotlib.pyplot as plt\n",
        "\n",
        "# Accuracy graph\n",
        "plt.subplot(1, 2, 1)\n",
        "plt.plot(accuracy, label='accuracy')\n",
        "plt.plot(val_accuracy, label='val accuracy')\n",
        "plt.title('Accuracy Graph')\n",
        "plt.xlabel('Epochs')\n",
        "plt.ylabel('Accuracy')\n",
        "plt.legend()\n",
        "\n",
        "# loss graph\n",
        "plt.subplot(1, 2, 2)\n",
        "plt.plot(loss, label='loss')\n",
        "plt.plot(val_loss, label='val loss')\n",
        "plt.title('Loss Graph')\n",
        "plt.xlabel('Epochs')\n",
        "plt.ylabel('Loss')\n",
        "plt.legend()\n",
        "\n",
        "plt.show()"
      ]
    },
    {
      "cell_type": "code",
      "execution_count": 14,
      "metadata": {
        "id": "YDLDotrWYQn2"
      },
      "outputs": [],
      "source": [
        "model_json = emotion_model.to_json()\n",
        "with open(\"emotion_model.json\", \"w\") as json_file:\n",
        "    json_file.write(model_json)\n",
        "\n",
        "# save trained model weight in .h5 file\n",
        "emotion_model.save_weights('emotion_model.h5')"
      ]
    },
    {
      "cell_type": "code",
      "execution_count": 15,
      "metadata": {
        "id": "umrPn--8YdEf"
      },
      "outputs": [],
      "source": [
        "emotion_dict = {0: \"Angry\",1: \"Happy\", 2: \"Neutral\", 3: \"Sad\", 4: \"Fear\"}"
      ]
    },
    {
      "cell_type": "code",
      "execution_count": 16,
      "metadata": {
        "id": "zOfUuj-0YjD0"
      },
      "outputs": [],
      "source": [
        "json_file = open('emotion_model.json', 'r')\n",
        "loaded_model_json = json_file.read()\n",
        "json_file.close()\n",
        "emotion_model = model_from_json(loaded_model_json)\n"
      ]
    }
  ],
  "metadata": {
    "colab": {
      "provenance": [],
      "mount_file_id": "1FJe-JjYVBQPxP3niL0J8Lg-MP2dZTHh2",
      "authorship_tag": "ABX9TyMLMPKwv5Agk7BPqOl/2dw3",
      "include_colab_link": true
    },
    "kernelspec": {
      "display_name": "Python 3",
      "name": "python3"
    },
    "language_info": {
      "name": "python"
    }
  },
  "nbformat": 4,
  "nbformat_minor": 0
}